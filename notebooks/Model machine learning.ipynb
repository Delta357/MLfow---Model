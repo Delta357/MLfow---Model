{
 "cells": [
  {
   "cell_type": "markdown",
   "id": "839fe179-754c-4b1c-b329-a46e8cb2bf56",
   "metadata": {},
   "source": [
    "# Model machine learning - Previsão de casas"
   ]
  },
  {
   "cell_type": "code",
   "execution_count": 1,
   "id": "07c1aa31-b07c-4c42-a328-d1fb07600d1b",
   "metadata": {},
   "outputs": [],
   "source": [
    "import pandas as pd\n",
    "import numpy as np\n",
    "import seaborn as sns\n",
    "import matplotlib.pyplot as plt"
   ]
  },
  {
   "cell_type": "code",
   "execution_count": 2,
   "id": "e1e48a21-41d1-4bbe-8b10-3a70e84a5200",
   "metadata": {},
   "outputs": [
    {
     "data": {
      "text/html": [
       "<div>\n",
       "<style scoped>\n",
       "    .dataframe tbody tr th:only-of-type {\n",
       "        vertical-align: middle;\n",
       "    }\n",
       "\n",
       "    .dataframe tbody tr th {\n",
       "        vertical-align: top;\n",
       "    }\n",
       "\n",
       "    .dataframe thead th {\n",
       "        text-align: right;\n",
       "    }\n",
       "</style>\n",
       "<table border=\"1\" class=\"dataframe\">\n",
       "  <thead>\n",
       "    <tr style=\"text-align: right;\">\n",
       "      <th></th>\n",
       "      <th>tamanho</th>\n",
       "      <th>ano</th>\n",
       "      <th>garagem</th>\n",
       "      <th>preco</th>\n",
       "    </tr>\n",
       "  </thead>\n",
       "  <tbody>\n",
       "    <tr>\n",
       "      <th>0</th>\n",
       "      <td>159.0</td>\n",
       "      <td>2003</td>\n",
       "      <td>2</td>\n",
       "      <td>208500</td>\n",
       "    </tr>\n",
       "    <tr>\n",
       "      <th>1</th>\n",
       "      <td>117.0</td>\n",
       "      <td>1976</td>\n",
       "      <td>2</td>\n",
       "      <td>181500</td>\n",
       "    </tr>\n",
       "    <tr>\n",
       "      <th>2</th>\n",
       "      <td>166.0</td>\n",
       "      <td>2001</td>\n",
       "      <td>2</td>\n",
       "      <td>223500</td>\n",
       "    </tr>\n",
       "    <tr>\n",
       "      <th>3</th>\n",
       "      <td>160.0</td>\n",
       "      <td>1915</td>\n",
       "      <td>3</td>\n",
       "      <td>140000</td>\n",
       "    </tr>\n",
       "    <tr>\n",
       "      <th>4</th>\n",
       "      <td>204.0</td>\n",
       "      <td>2000</td>\n",
       "      <td>3</td>\n",
       "      <td>250000</td>\n",
       "    </tr>\n",
       "  </tbody>\n",
       "</table>\n",
       "</div>"
      ],
      "text/plain": [
       "   tamanho   ano  garagem   preco\n",
       "0    159.0  2003        2  208500\n",
       "1    117.0  1976        2  181500\n",
       "2    166.0  2001        2  223500\n",
       "3    160.0  1915        3  140000\n",
       "4    204.0  2000        3  250000"
      ]
     },
     "execution_count": 2,
     "metadata": {},
     "output_type": "execute_result"
    }
   ],
   "source": [
    "df = pd.read_csv(\"casas.csv\")\n",
    "df.head()"
   ]
  },
  {
   "cell_type": "code",
   "execution_count": 3,
   "id": "2f9e233f-fc3e-40dd-9a80-ab603d1ef01d",
   "metadata": {},
   "outputs": [
    {
     "data": {
      "text/html": [
       "<div>\n",
       "<style scoped>\n",
       "    .dataframe tbody tr th:only-of-type {\n",
       "        vertical-align: middle;\n",
       "    }\n",
       "\n",
       "    .dataframe tbody tr th {\n",
       "        vertical-align: top;\n",
       "    }\n",
       "\n",
       "    .dataframe thead th {\n",
       "        text-align: right;\n",
       "    }\n",
       "</style>\n",
       "<table border=\"1\" class=\"dataframe\">\n",
       "  <thead>\n",
       "    <tr style=\"text-align: right;\">\n",
       "      <th></th>\n",
       "      <th>tamanho</th>\n",
       "      <th>ano</th>\n",
       "      <th>garagem</th>\n",
       "      <th>preco</th>\n",
       "    </tr>\n",
       "  </thead>\n",
       "  <tbody>\n",
       "    <tr>\n",
       "      <th>1455</th>\n",
       "      <td>153.0</td>\n",
       "      <td>1999</td>\n",
       "      <td>2</td>\n",
       "      <td>175000</td>\n",
       "    </tr>\n",
       "    <tr>\n",
       "      <th>1456</th>\n",
       "      <td>193.0</td>\n",
       "      <td>1978</td>\n",
       "      <td>2</td>\n",
       "      <td>210000</td>\n",
       "    </tr>\n",
       "    <tr>\n",
       "      <th>1457</th>\n",
       "      <td>217.0</td>\n",
       "      <td>1941</td>\n",
       "      <td>1</td>\n",
       "      <td>266500</td>\n",
       "    </tr>\n",
       "    <tr>\n",
       "      <th>1458</th>\n",
       "      <td>100.0</td>\n",
       "      <td>1950</td>\n",
       "      <td>1</td>\n",
       "      <td>142125</td>\n",
       "    </tr>\n",
       "    <tr>\n",
       "      <th>1459</th>\n",
       "      <td>117.0</td>\n",
       "      <td>1965</td>\n",
       "      <td>1</td>\n",
       "      <td>147500</td>\n",
       "    </tr>\n",
       "  </tbody>\n",
       "</table>\n",
       "</div>"
      ],
      "text/plain": [
       "      tamanho   ano  garagem   preco\n",
       "1455    153.0  1999        2  175000\n",
       "1456    193.0  1978        2  210000\n",
       "1457    217.0  1941        1  266500\n",
       "1458    100.0  1950        1  142125\n",
       "1459    117.0  1965        1  147500"
      ]
     },
     "execution_count": 3,
     "metadata": {},
     "output_type": "execute_result"
    }
   ],
   "source": [
    "df.tail()"
   ]
  },
  {
   "cell_type": "code",
   "execution_count": 4,
   "id": "61df38e9-dd2d-477f-9c0a-ac51e053d19c",
   "metadata": {},
   "outputs": [
    {
     "data": {
      "text/plain": [
       "(1460, 4)"
      ]
     },
     "execution_count": 4,
     "metadata": {},
     "output_type": "execute_result"
    }
   ],
   "source": [
    "df.shape"
   ]
  },
  {
   "cell_type": "code",
   "execution_count": 5,
   "id": "bc46444a-2c77-4581-962e-d83c4e5002ea",
   "metadata": {},
   "outputs": [
    {
     "name": "stdout",
     "output_type": "stream",
     "text": [
      "<class 'pandas.core.frame.DataFrame'>\n",
      "RangeIndex: 1460 entries, 0 to 1459\n",
      "Data columns (total 4 columns):\n",
      " #   Column   Non-Null Count  Dtype  \n",
      "---  ------   --------------  -----  \n",
      " 0   tamanho  1460 non-null   float64\n",
      " 1   ano      1460 non-null   int64  \n",
      " 2   garagem  1460 non-null   int64  \n",
      " 3   preco    1460 non-null   int64  \n",
      "dtypes: float64(1), int64(3)\n",
      "memory usage: 45.8 KB\n"
     ]
    }
   ],
   "source": [
    "df.info()"
   ]
  },
  {
   "cell_type": "code",
   "execution_count": 6,
   "id": "38760913-e735-488e-96ad-ce90da4704bf",
   "metadata": {},
   "outputs": [
    {
     "data": {
      "text/html": [
       "<div>\n",
       "<style scoped>\n",
       "    .dataframe tbody tr th:only-of-type {\n",
       "        vertical-align: middle;\n",
       "    }\n",
       "\n",
       "    .dataframe tbody tr th {\n",
       "        vertical-align: top;\n",
       "    }\n",
       "\n",
       "    .dataframe thead th {\n",
       "        text-align: right;\n",
       "    }\n",
       "</style>\n",
       "<table border=\"1\" class=\"dataframe\">\n",
       "  <thead>\n",
       "    <tr style=\"text-align: right;\">\n",
       "      <th></th>\n",
       "      <th>tamanho</th>\n",
       "      <th>ano</th>\n",
       "      <th>garagem</th>\n",
       "      <th>preco</th>\n",
       "    </tr>\n",
       "  </thead>\n",
       "  <tbody>\n",
       "    <tr>\n",
       "      <th>tamanho</th>\n",
       "      <td>1.000000</td>\n",
       "      <td>0.199123</td>\n",
       "      <td>0.467421</td>\n",
       "      <td>0.708653</td>\n",
       "    </tr>\n",
       "    <tr>\n",
       "      <th>ano</th>\n",
       "      <td>0.199123</td>\n",
       "      <td>1.000000</td>\n",
       "      <td>0.537850</td>\n",
       "      <td>0.522897</td>\n",
       "    </tr>\n",
       "    <tr>\n",
       "      <th>garagem</th>\n",
       "      <td>0.467421</td>\n",
       "      <td>0.537850</td>\n",
       "      <td>1.000000</td>\n",
       "      <td>0.640409</td>\n",
       "    </tr>\n",
       "    <tr>\n",
       "      <th>preco</th>\n",
       "      <td>0.708653</td>\n",
       "      <td>0.522897</td>\n",
       "      <td>0.640409</td>\n",
       "      <td>1.000000</td>\n",
       "    </tr>\n",
       "  </tbody>\n",
       "</table>\n",
       "</div>"
      ],
      "text/plain": [
       "          tamanho       ano   garagem     preco\n",
       "tamanho  1.000000  0.199123  0.467421  0.708653\n",
       "ano      0.199123  1.000000  0.537850  0.522897\n",
       "garagem  0.467421  0.537850  1.000000  0.640409\n",
       "preco    0.708653  0.522897  0.640409  1.000000"
      ]
     },
     "execution_count": 6,
     "metadata": {},
     "output_type": "execute_result"
    }
   ],
   "source": [
    "df.corr()"
   ]
  },
  {
   "cell_type": "code",
   "execution_count": 7,
   "id": "4cd5ae3d-b62a-4589-a2ff-45b1c26b6002",
   "metadata": {},
   "outputs": [
    {
     "data": {
      "text/html": [
       "<div>\n",
       "<style scoped>\n",
       "    .dataframe tbody tr th:only-of-type {\n",
       "        vertical-align: middle;\n",
       "    }\n",
       "\n",
       "    .dataframe tbody tr th {\n",
       "        vertical-align: top;\n",
       "    }\n",
       "\n",
       "    .dataframe thead th {\n",
       "        text-align: right;\n",
       "    }\n",
       "</style>\n",
       "<table border=\"1\" class=\"dataframe\">\n",
       "  <thead>\n",
       "    <tr style=\"text-align: right;\">\n",
       "      <th></th>\n",
       "      <th>tamanho</th>\n",
       "      <th>ano</th>\n",
       "      <th>garagem</th>\n",
       "      <th>preco</th>\n",
       "    </tr>\n",
       "  </thead>\n",
       "  <tbody>\n",
       "    <tr>\n",
       "      <th>count</th>\n",
       "      <td>1460.000000</td>\n",
       "      <td>1460.000000</td>\n",
       "      <td>1460.000000</td>\n",
       "      <td>1460.000000</td>\n",
       "    </tr>\n",
       "    <tr>\n",
       "      <th>mean</th>\n",
       "      <td>140.795205</td>\n",
       "      <td>1971.267808</td>\n",
       "      <td>1.767123</td>\n",
       "      <td>180921.195890</td>\n",
       "    </tr>\n",
       "    <tr>\n",
       "      <th>std</th>\n",
       "      <td>48.822992</td>\n",
       "      <td>30.202904</td>\n",
       "      <td>0.747315</td>\n",
       "      <td>79442.502883</td>\n",
       "    </tr>\n",
       "    <tr>\n",
       "      <th>min</th>\n",
       "      <td>31.000000</td>\n",
       "      <td>1872.000000</td>\n",
       "      <td>0.000000</td>\n",
       "      <td>34900.000000</td>\n",
       "    </tr>\n",
       "    <tr>\n",
       "      <th>25%</th>\n",
       "      <td>105.000000</td>\n",
       "      <td>1954.000000</td>\n",
       "      <td>1.000000</td>\n",
       "      <td>129975.000000</td>\n",
       "    </tr>\n",
       "    <tr>\n",
       "      <th>50%</th>\n",
       "      <td>136.000000</td>\n",
       "      <td>1973.000000</td>\n",
       "      <td>2.000000</td>\n",
       "      <td>163000.000000</td>\n",
       "    </tr>\n",
       "    <tr>\n",
       "      <th>75%</th>\n",
       "      <td>165.000000</td>\n",
       "      <td>2000.000000</td>\n",
       "      <td>2.000000</td>\n",
       "      <td>214000.000000</td>\n",
       "    </tr>\n",
       "    <tr>\n",
       "      <th>max</th>\n",
       "      <td>524.000000</td>\n",
       "      <td>2010.000000</td>\n",
       "      <td>4.000000</td>\n",
       "      <td>755000.000000</td>\n",
       "    </tr>\n",
       "  </tbody>\n",
       "</table>\n",
       "</div>"
      ],
      "text/plain": [
       "           tamanho          ano      garagem          preco\n",
       "count  1460.000000  1460.000000  1460.000000    1460.000000\n",
       "mean    140.795205  1971.267808     1.767123  180921.195890\n",
       "std      48.822992    30.202904     0.747315   79442.502883\n",
       "min      31.000000  1872.000000     0.000000   34900.000000\n",
       "25%     105.000000  1954.000000     1.000000  129975.000000\n",
       "50%     136.000000  1973.000000     2.000000  163000.000000\n",
       "75%     165.000000  2000.000000     2.000000  214000.000000\n",
       "max     524.000000  2010.000000     4.000000  755000.000000"
      ]
     },
     "execution_count": 7,
     "metadata": {},
     "output_type": "execute_result"
    }
   ],
   "source": [
    "df.describe()"
   ]
  },
  {
   "cell_type": "markdown",
   "id": "29c199ce-e7a9-4d45-a885-129bf45606fa",
   "metadata": {},
   "source": [
    "**Análise de dados**"
   ]
  },
  {
   "cell_type": "code",
   "execution_count": 8,
   "id": "545f2d23-b2fe-4474-8a04-44a6c033e94f",
   "metadata": {},
   "outputs": [
    {
     "data": {
      "text/plain": [
       "<matplotlib.axes._subplots.AxesSubplot at 0x21edfa43908>"
      ]
     },
     "execution_count": 8,
     "metadata": {},
     "output_type": "execute_result"
    },
    {
     "data": {
      "image/png": "[encoded data removed]",
      "text/plain": [
       "<Figure size 432x288 with 1 Axes>"
      ]
     },
     "metadata": {
      "needs_background": "light"
     },
     "output_type": "display_data"
    }
   ],
   "source": [
    "sns.histplot(df[\"tamanho\"])"
   ]
  },
  {
   "cell_type": "code",
   "execution_count": 9,
   "id": "95681bba-b013-4ba6-aa09-bfe6e922a7a0",
   "metadata": {},
   "outputs": [
    {
     "data": {
      "text/plain": [
       "<matplotlib.axes._subplots.AxesSubplot at 0x21ee147ad08>"
      ]
     },
     "execution_count": 9,
     "metadata": {},
     "output_type": "execute_result"
    },
    {
     "data": {
      "image/png": "[encoded data removed]",
      "text/plain": [
       "<Figure size 432x288 with 1 Axes>"
      ]
     },
     "metadata": {
      "needs_background": "light"
     },
     "output_type": "display_data"
    }
   ],
   "source": [
    "sns.histplot(df[\"ano\"])"
   ]
  },
  {
   "cell_type": "code",
   "execution_count": 10,
   "id": "cfd43c99-dedb-4f0a-a97c-233c87c4937e",
   "metadata": {},
   "outputs": [
    {
     "data": {
      "text/plain": [
       "<matplotlib.axes._subplots.AxesSubplot at 0x21ee15329c8>"
      ]
     },
     "execution_count": 10,
     "metadata": {},
     "output_type": "execute_result"
    },
    {
     "data": {
      "image/png": "[encoded data removed]",
      "text/plain": [
       "<Figure size 432x288 with 1 Axes>"
      ]
     },
     "metadata": {
      "needs_background": "light"
     },
     "output_type": "display_data"
    }
   ],
   "source": [
    "sns.histplot(df[\"preco\"])"
   ]
  },
  {
   "cell_type": "code",
   "execution_count": 11,
   "id": "8edd3a9c-fc9a-4165-bd65-2a604227c693",
   "metadata": {},
   "outputs": [
    {
     "name": "stderr",
     "output_type": "stream",
     "text": [
      "C:\\Users\\rafae\\Anaconda3\\lib\\site-packages\\seaborn\\distributions.py:2557: FutureWarning: `distplot` is a deprecated function and will be removed in a future version. Please adapt your code to use either `displot` (a figure-level function with similar flexibility) or `histplot` (an axes-level function for histograms).\n",
      "  warnings.warn(msg, FutureWarning)\n"
     ]
    },
    {
     "data": {
      "image/png": "[encoded data removed]",
      "text/plain": [
       "<Figure size 432x288 with 1 Axes>"
      ]
     },
     "metadata": {
      "needs_background": "light"
     },
     "output_type": "display_data"
    }
   ],
   "source": [
    "sns.distplot(df[\"ano\"]);"
   ]
  },
  {
   "cell_type": "code",
   "execution_count": 12,
   "id": "41d3492a-44fe-45d8-9769-1e5a9c70a242",
   "metadata": {},
   "outputs": [
    {
     "data": {
      "text/plain": [
       "<matplotlib.axes._subplots.AxesSubplot at 0x21ee1690348>"
      ]
     },
     "execution_count": 12,
     "metadata": {},
     "output_type": "execute_result"
    },
    {
     "data": {
      "image/png": "[encoded data removed]",
      "text/plain": [
       "<Figure size 432x288 with 1 Axes>"
      ]
     },
     "metadata": {
      "needs_background": "light"
     },
     "output_type": "display_data"
    }
   ],
   "source": [
    "sns.lineplot(x=\"ano\", y=\"tamanho\", data = df)"
   ]
  },
  {
   "cell_type": "code",
   "execution_count": 13,
   "id": "bffbddba-9c61-4856-86c2-5cff40c341a3",
   "metadata": {},
   "outputs": [
    {
     "data": {
      "text/plain": [
       "<matplotlib.axes._subplots.AxesSubplot at 0x21ee17cbc48>"
      ]
     },
     "execution_count": 13,
     "metadata": {},
     "output_type": "execute_result"
    },
    {
     "data": {
      "image/png": "[encoded data removed]",
      "text/plain": [
       "<Figure size 432x288 with 1 Axes>"
      ]
     },
     "metadata": {
      "needs_background": "light"
     },
     "output_type": "display_data"
    }
   ],
   "source": [
    "sns.lineplot(x=\"ano\", y=\"preco\", data = df)"
   ]
  },
  {
   "cell_type": "code",
   "execution_count": 14,
   "id": "7c5fd0ec-ff65-4108-9538-9a7c99633e2c",
   "metadata": {},
   "outputs": [
    {
     "data": {
      "text/plain": [
       "<matplotlib.axes._subplots.AxesSubplot at 0x21ee181ce48>"
      ]
     },
     "execution_count": 14,
     "metadata": {},
     "output_type": "execute_result"
    },
    {
     "data": {
      "image/png": "[encoded data removed]",
      "text/plain": [
       "<Figure size 432x288 with 1 Axes>"
      ]
     },
     "metadata": {
      "needs_background": "light"
     },
     "output_type": "display_data"
    }
   ],
   "source": [
    "sns.scatterplot(x=\"ano\", y=\"preco\", data = df)"
   ]
  },
  {
   "cell_type": "markdown",
   "id": "cf93f2bf-3430-4462-abd5-2cbc55c41001",
   "metadata": {},
   "source": [
    "# Treino e Teste do modelo"
   ]
  },
  {
   "cell_type": "code",
   "execution_count": 15,
   "id": "c6c68b60-0705-4a37-adc2-48bb81a55ece",
   "metadata": {},
   "outputs": [],
   "source": [
    "x = df.drop('preco', axis = 1)\n",
    "y = df[\"preco\"].copy()"
   ]
  },
  {
   "cell_type": "code",
   "execution_count": 16,
   "id": "7fc5f77c-1bd0-4a60-ad49-99a6e9dfc6d8",
   "metadata": {},
   "outputs": [
    {
     "data": {
      "text/plain": [
       "(1460, 3)"
      ]
     },
     "execution_count": 16,
     "metadata": {},
     "output_type": "execute_result"
    }
   ],
   "source": [
    "x.shape"
   ]
  },
  {
   "cell_type": "code",
   "execution_count": 17,
   "id": "561b753c-766f-4590-a567-bc5ab8be94de",
   "metadata": {},
   "outputs": [
    {
     "data": {
      "text/plain": [
       "(1460,)"
      ]
     },
     "execution_count": 17,
     "metadata": {},
     "output_type": "execute_result"
    }
   ],
   "source": [
    "y.shape"
   ]
  },
  {
   "cell_type": "code",
   "execution_count": 18,
   "id": "a48d7379-d142-4109-9b7f-422aa09ec379",
   "metadata": {},
   "outputs": [],
   "source": [
    "from sklearn.model_selection import train_test_split\n",
    "\n",
    "X_train, X_test, y_train, y_test = train_test_split(x, y, test_size=0.3, random_state=42)"
   ]
  },
  {
   "cell_type": "code",
   "execution_count": 19,
   "id": "95643582-973c-4552-a9a9-0a22bb2e27f6",
   "metadata": {},
   "outputs": [
    {
     "data": {
      "text/plain": [
       "(1022, 3)"
      ]
     },
     "execution_count": 19,
     "metadata": {},
     "output_type": "execute_result"
    }
   ],
   "source": [
    "X_train.shape"
   ]
  },
  {
   "cell_type": "code",
   "execution_count": 20,
   "id": "21c6747a-7971-4c95-ad5c-4e7be7989c08",
   "metadata": {},
   "outputs": [
    {
     "data": {
      "text/plain": [
       "(1022,)"
      ]
     },
     "execution_count": 20,
     "metadata": {},
     "output_type": "execute_result"
    }
   ],
   "source": [
    "y_train.shape"
   ]
  },
  {
   "cell_type": "code",
   "execution_count": 21,
   "id": "3864945e-01ef-4a69-a9f7-d1468171d55f",
   "metadata": {},
   "outputs": [
    {
     "data": {
      "text/plain": [
       "(438, 3)"
      ]
     },
     "execution_count": 21,
     "metadata": {},
     "output_type": "execute_result"
    }
   ],
   "source": [
    "X_test.shape"
   ]
  },
  {
   "cell_type": "code",
   "execution_count": 22,
   "id": "bd948221-dd86-4378-b53b-71e7f1c32f24",
   "metadata": {},
   "outputs": [
    {
     "data": {
      "text/plain": [
       "(438,)"
      ]
     },
     "execution_count": 22,
     "metadata": {},
     "output_type": "execute_result"
    }
   ],
   "source": [
    "y_test.shape"
   ]
  },
  {
   "cell_type": "markdown",
   "id": "f0e2f42a-4ab1-4a64-934a-8f927c5b3888",
   "metadata": {},
   "source": [
    "**MLfow**"
   ]
  },
  {
   "cell_type": "code",
   "execution_count": 23,
   "id": "6dfc9b3c-de2d-4099-8bcc-0bd604664b7d",
   "metadata": {},
   "outputs": [],
   "source": [
    "import mlflow"
   ]
  },
  {
   "cell_type": "code",
   "execution_count": 24,
   "id": "95e89171-c4c9-4313-9301-4d4863a25808",
   "metadata": {},
   "outputs": [],
   "source": [
    "mlflow.set_experiment('house-prices-eda')"
   ]
  },
  {
   "cell_type": "code",
   "execution_count": 25,
   "id": "8426cfe5-0e11-4b3d-a8c7-94e918d814dd",
   "metadata": {},
   "outputs": [
    {
     "data": {
      "text/plain": [
       "<ActiveRun: >"
      ]
     },
     "execution_count": 25,
     "metadata": {},
     "output_type": "execute_result"
    }
   ],
   "source": [
    "mlflow.start_run()"
   ]
  },
  {
   "cell_type": "markdown",
   "id": "d7575835-d2ac-4b29-804d-6630b58d4af7",
   "metadata": {},
   "source": [
    "# Model machine learning - Regression linear"
   ]
  },
  {
   "cell_type": "code",
   "execution_count": 26,
   "id": "d9d68c02-261b-4be8-99bf-50bf1c55c96d",
   "metadata": {},
   "outputs": [],
   "source": [
    "from sklearn.linear_model import LinearRegression\n",
    "\n",
    "lr = LinearRegression()\n",
    "lr.fit(X_train, y_train)\n",
    "lr_predicted = lr.predict(X_test)"
   ]
  },
  {
   "cell_type": "code",
   "execution_count": 27,
   "id": "0ae91c88-975d-48fe-8f22-a40a8002ff88",
   "metadata": {},
   "outputs": [],
   "source": [
    "mlflow.sklearn.log_model(lr, \"lr\")"
   ]
  },
  {
   "cell_type": "code",
   "execution_count": 28,
   "id": "8469043b-633f-46a4-9290-73e944464772",
   "metadata": {},
   "outputs": [
    {
     "data": {
      "text/plain": [
       "array([119279.7701544 , 289022.71460536])"
      ]
     },
     "execution_count": 28,
     "metadata": {},
     "output_type": "execute_result"
    }
   ],
   "source": [
    "lr.predict(X_test)[0:2]"
   ]
  },
  {
   "cell_type": "code",
   "execution_count": 29,
   "id": "5faa98f5-8372-472f-be6d-9a6764e96a74",
   "metadata": {},
   "outputs": [
    {
     "data": {
      "text/plain": [
       "tamanho      99.0\n",
       "ano        1963.0\n",
       "garagem       1.0\n",
       "Name: 892, dtype: float64"
      ]
     },
     "execution_count": 29,
     "metadata": {},
     "output_type": "execute_result"
    }
   ],
   "source": [
    "lr = X_test.iloc[0]\n",
    "lr"
   ]
  },
  {
   "cell_type": "code",
   "execution_count": 30,
   "id": "b6c4421b-4617-4098-874a-fd76a7689f55",
   "metadata": {},
   "outputs": [],
   "source": [
    "import math\n",
    "from sklearn.metrics import mean_absolute_error\n",
    "from sklearn.metrics import mean_squared_error\n",
    "from sklearn.metrics import r2_score\n",
    "\n",
    "\n",
    "mse = mean_squared_error(y_test, lr_predicted)\n",
    "rmse =  math.sqrt(mse)\n",
    "r2 = r2_score(y_test, lr_predicted)"
   ]
  },
  {
   "cell_type": "code",
   "execution_count": 31,
   "id": "b2796961-c2fb-4901-921a-a3355f342a63",
   "metadata": {},
   "outputs": [
    {
     "data": {
      "text/plain": [
       "2078666917.928992"
      ]
     },
     "execution_count": 31,
     "metadata": {},
     "output_type": "execute_result"
    }
   ],
   "source": [
    "mse"
   ]
  },
  {
   "cell_type": "code",
   "execution_count": 32,
   "id": "d26d26ff-0fe4-4d98-a31e-ac04d1ec0254",
   "metadata": {},
   "outputs": [
    {
     "data": {
      "text/plain": [
       "45592.39978251849"
      ]
     },
     "execution_count": 32,
     "metadata": {},
     "output_type": "execute_result"
    }
   ],
   "source": [
    "rmse"
   ]
  },
  {
   "cell_type": "code",
   "execution_count": 33,
   "id": "44dcfb7f-86c8-42ae-b28a-118a7d370ea7",
   "metadata": {},
   "outputs": [
    {
     "data": {
      "text/plain": [
       "0.7021153642898046"
      ]
     },
     "execution_count": 33,
     "metadata": {},
     "output_type": "execute_result"
    }
   ],
   "source": [
    "r2"
   ]
  },
  {
   "cell_type": "code",
   "execution_count": 34,
   "id": "53466e2e-0769-497b-9054-32756294952c",
   "metadata": {},
   "outputs": [],
   "source": [
    "mlflow.log_metric('mse',mse)\n",
    "mlflow.log_metric('rmse',rmse)\n",
    "mlflow.log_metric('r2',r2)"
   ]
  },
  {
   "cell_type": "code",
   "execution_count": 35,
   "id": "79613ca0-4c1e-43d5-bf40-885c11289760",
   "metadata": {},
   "outputs": [],
   "source": [
    "mlflow.end_run()"
   ]
  },
  {
   "cell_type": "markdown",
   "id": "87c3f55c-fd04-4145-992d-0029db4f938d",
   "metadata": {},
   "source": [
    "# Model - Machine learning xgboost"
   ]
  },
  {
   "cell_type": "markdown",
   "id": "a6da0aec-be90-4610-aba2-b25b9c60506b",
   "metadata": {},
   "source": [
    "#!pip install xgboost"
   ]
  },
  {
   "cell_type": "code",
   "execution_count": 36,
   "id": "8bc08dc5-f402-4367-b48a-8ad8933ed53e",
   "metadata": {},
   "outputs": [],
   "source": [
    "from xgboost import XGBRegressor, XGBRegressor\n",
    "\n",
    "xgb_params = {\n",
    "    'learning_rate':0.2,\n",
    "    'n_estimators': 50,\n",
    "    'random_state':42\n",
    "}\n",
    "\n",
    "with mlflow.start_run():\n",
    "    xgb = XGBRegressor(**xgb_params)\n",
    "    xgb.fit(X_train, y_train)\n",
    "    mlflow.xgboost.log_model(xgb,'xgboost')\n",
    "    xgb_predicted = xgb.predict(X_test)\n",
    "    mse = mean_squared_error(y_test, xgb_predicted)\n",
    "    rmse =  math.sqrt(mse)\n",
    "    r2 = r2_score(y_test, xgb_predicted)\n",
    "    mlflow.log_metric('mse',mse)\n",
    "    mlflow.log_metric('rmse',rmse)\n",
    "    mlflow.log_metric('r2',r2)"
   ]
  },
  {
   "cell_type": "code",
   "execution_count": 37,
   "id": "7b879c75-bfa3-4be6-a916-25146aed527a",
   "metadata": {},
   "outputs": [
    {
     "data": {
      "text/plain": [
       "1386727460.1346002"
      ]
     },
     "execution_count": 37,
     "metadata": {},
     "output_type": "execute_result"
    }
   ],
   "source": [
    "mse"
   ]
  },
  {
   "cell_type": "code",
   "execution_count": 38,
   "id": "5d6841d4-4e80-4e7d-b30f-197c0fabf1f5",
   "metadata": {},
   "outputs": [
    {
     "data": {
      "text/plain": [
       "37238.789724353286"
      ]
     },
     "execution_count": 38,
     "metadata": {},
     "output_type": "execute_result"
    }
   ],
   "source": [
    "rmse"
   ]
  },
  {
   "cell_type": "code",
   "execution_count": 39,
   "id": "de3321ff-f8c7-4faf-9d27-0e4c5e3a0478",
   "metadata": {},
   "outputs": [
    {
     "data": {
      "text/plain": [
       "0.8012741720529797"
      ]
     },
     "execution_count": 39,
     "metadata": {},
     "output_type": "execute_result"
    }
   ],
   "source": [
    "r2"
   ]
  },
  {
   "cell_type": "code",
   "execution_count": 46,
   "id": "ebd37c4b-1977-472d-891d-637869159b9d",
   "metadata": {},
   "outputs": [
    {
     "data": {
      "text/plain": [
       "array([133274.6  , 282321.78 , 119604.77 , 162999.56 , 270246.6  ,\n",
       "        77149.28 , 150891.8  , 162178.69 ,  76725.555, 129801.3  ,\n",
       "       132956.17 , 120201.49 , 117857.805, 211653.92 , 210945.17 ,\n",
       "       116173.41 , 204277.1  , 139237.75 , 101567.93 , 190772.98 ,\n",
       "       218673.53 , 246842.69 , 187014.   , 117313.73 , 187853.6  ,\n",
       "       161217.2  , 208671.45 , 108731.25 , 213210.06 , 210135.02 ,\n",
       "       126163.33 , 309184.38 , 253231.5  , 117313.73 , 250338.4  ,\n",
       "       138167.58 , 144127.95 , 228080.27 , 270415.2  , 117656.914,\n",
       "       131880.55 , 259867.64 , 103930.39 , 381372.25 , 141057.45 ,\n",
       "       129804.805, 123463.3  , 117793.1  , 510175.88 , 128687.336,\n",
       "       116173.41 , 180921.5  , 137752.28 , 287415.38 , 144175.3  ,\n",
       "       242246.88 , 204664.64 , 152172.92 , 150939.9  , 112250.836,\n",
       "        68258.63 , 137942.72 , 310552.62 , 215577.16 , 242542.55 ,\n",
       "       182425.6  , 111077.016, 337122.88 , 128457.92 , 183543.23 ,\n",
       "       163706.94 , 133301.25 , 119972.55 , 113703.34 , 527761.8  ,\n",
       "       189025.25 , 319641.53 , 278937.3  , 139237.75 , 108049.41 ,\n",
       "       106151.164, 106492.71 , 127127.1  , 111909.63 , 159949.6  ,\n",
       "       157424.7  , 308578.7  , 181857.28 , 144175.3  , 187267.19 ,\n",
       "       158514.69 , 181791.58 , 119966.88 , 287550.53 , 131404.   ,\n",
       "       176973.02 , 159145.81 , 183543.23 , 216813.5  , 237446.78 ,\n",
       "       175853.17 , 214835.61 , 210505.88 ,  86844.76 , 166489.05 ,\n",
       "       163434.27 , 141850.73 , 235637.58 , 144430.3  , 212071.03 ,\n",
       "        84323.59 , 118810.29 , 128651.74 , 131826.53 , 200551.05 ,\n",
       "       105384.51 , 117853.44 , 135873.53 , 185513.64 , 226586.33 ,\n",
       "       134797.03 , 144175.3  , 213210.06 , 188433.16 , 171645.14 ,\n",
       "       121360.01 , 258451.58 , 105033.66 , 141600.25 , 165002.03 ,\n",
       "       203240.05 , 318087.97 , 205477.44 , 137723.58 ,  69216.766,\n",
       "       284653.38 , 356942.47 , 116694.85 , 249626.98 , 630728.56 ,\n",
       "       441837.22 , 117313.73 , 194274.5  , 173455.25 , 136664.22 ,\n",
       "       120764.12 , 209575.77 , 204041.08 , 108049.41 ,  61839.69 ,\n",
       "       115187.06 , 149537.44 , 169406.47 , 220049.56 , 113382.914,\n",
       "       140050.55 , 154243.34 , 145367.45 ,  56649.453, 134764.4  ,\n",
       "       185618.06 , 147352.55 , 291291.34 , 128687.336, 114448.52 ,\n",
       "       153496.78 , 229229.67 , 366434.72 , 453653.72 , 209986.86 ,\n",
       "       289431.78 , 105426.08 , 132426.8  , 175618.27 , 310145.56 ,\n",
       "       177128.3  , 140476.92 , 219434.45 , 134258.58 , 212011.84 ,\n",
       "       157360.64 , 117832.92 , 139293.23 , 123286.89 , 241860.47 ,\n",
       "       171368.28 , 274730.16 , 243968.05 , 186408.58 , 106605.586,\n",
       "       155314.56 , 115057.41 , 115527.22 , 137382.97 , 170562.66 ,\n",
       "       154708.75 , 175240.86 , 102956.42 , 252323.38 , 119511.78 ,\n",
       "       183610.1  , 191889.23 , 108791.52 , 354333.12 , 180996.03 ,\n",
       "       119590.15 , 242311.16 , 152471.31 , 149006.14 , 120764.12 ,\n",
       "       258767.17 , 159650.5  , 107928.87 , 183985.89 , 145367.45 ,\n",
       "       239395.97 , 221266.38 , 139237.75 , 150277.27 , 170450.5  ,\n",
       "       139120.33 , 185458.25 , 170812.8  , 115617.94 , 252099.39 ,\n",
       "       133110.3  , 120126.62 , 105494.57 , 189418.69 , 107589.66 ,\n",
       "       107665.48 , 191655.14 , 124167.34 , 130797.91 , 218289.23 ,\n",
       "       116835.125, 189334.7  , 147407.73 , 221036.94 , 118419.05 ,\n",
       "        82747.86 , 285126.53 , 242899.08 , 433547.22 , 199966.06 ,\n",
       "        95875.76 , 146118.86 , 157898.23 , 147352.55 , 110492.38 ,\n",
       "       254791.05 , 180484.02 , 148957.8  ,  87405.9  , 134988.97 ,\n",
       "       147352.55 , 110690.664, 118594.945, 201877.2  , 229579.84 ,\n",
       "       268703.7  , 153182.77 , 119973.96 , 201087.28 , 316373.4  ,\n",
       "       334520.06 , 182918.89 , 140091.31 , 134445.75 , 187853.6  ,\n",
       "       355005.88 , 175381.36 , 242253.72 , 138502.05 , 145259.44 ,\n",
       "       140634.2  , 193921.84 , 257475.8  , 143172.23 , 156893.   ,\n",
       "       214705.   ,  76725.555, 239518.03 , 103590.57 , 316373.4  ,\n",
       "       166874.58 , 235172.38 , 132336.6  , 218510.83 , 182274.69 ,\n",
       "       148957.8  , 120201.8  , 133836.44 , 198484.19 ,  66083.24 ,\n",
       "       161533.14 , 157958.56 , 130113.   , 236872.83 , 120220.11 ,\n",
       "       181488.25 , 216097.83 , 120764.12 , 148309.48 , 181446.58 ,\n",
       "       206540.42 , 154189.3  , 264290.03 , 212857.8  , 113428.625,\n",
       "       166288.27 , 201087.28 , 100721.336, 318573.6  , 155115.17 ,\n",
       "       194765.66 , 160055.72 , 180109.86 , 195797.3  , 113703.34 ,\n",
       "       215577.16 , 136891.23 , 124570.22 ,  88367.31 , 189389.77 ,\n",
       "       182500.67 , 133377.94 , 179047.89 , 170329.56 , 108581.336,\n",
       "       153182.77 , 134370.69 , 119966.88 , 200194.28 , 219068.95 ,\n",
       "       145396.95 , 121235.266, 107680.49 ,  91101.336, 231040.22 ,\n",
       "       206413.02 , 108731.25 , 144060.5  , 169282.52 , 303095.6  ,\n",
       "       377491.38 , 272769.47 , 134843.48 , 301225.9  , 119943.91 ,\n",
       "       218164.03 , 342410.06 , 198897.08 , 167134.17 , 353523.75 ,\n",
       "       120492.28 , 124410.34 ,  69164.125, 210945.17 , 280869.47 ,\n",
       "       280663.94 , 141434.86 , 239745.47 , 215118.39 , 138715.94 ,\n",
       "       196079.31 , 156781.16 , 119140.81 , 148813.58 , 143810.47 ,\n",
       "       116423.445, 199407.38 , 158378.53 , 180118.2  , 147921.84 ,\n",
       "       125535.5  , 229794.2  , 217092.86 , 105727.44 , 184314.52 ,\n",
       "       153429.83 , 176676.44 , 194851.69 , 152471.31 , 148321.06 ,\n",
       "       218289.23 , 132565.2  , 150348.95 , 290075.03 , 152839.36 ,\n",
       "       115217.23 , 179000.56 , 139293.23 , 331454.47 , 135989.11 ,\n",
       "       540977.56 , 118584.57 , 152821.98 , 162546.7  , 136013.9  ,\n",
       "       182274.69 , 287620.62 , 117386.67 , 151008.62 , 129924.34 ,\n",
       "        96662.164, 214378.06 , 189418.69 , 206973.16 , 207451.1  ,\n",
       "       233373.39 , 188064.58 ,  71049.09 , 250171.2  , 148087.72 ,\n",
       "       306007.44 , 112477.25 , 459280.7  , 231218.73 , 128103.37 ,\n",
       "       242148.19 , 197689.22 , 207451.1  , 212154.97 , 262379.6  ,\n",
       "       116216.79 , 248316.8  , 187853.6  , 164972.6  , 253458.88 ,\n",
       "       120986.46 , 145396.95 , 170761.14 , 132447.62 , 129495.56 ,\n",
       "       245212.56 , 113112.59 , 583401.3  ], dtype=float32)"
      ]
     },
     "execution_count": 46,
     "metadata": {},
     "output_type": "execute_result"
    }
   ],
   "source": [
    "model_xgb_pred = xgb.predict(X_test)\n",
    "model_xgb_pred"
   ]
  },
  {
   "cell_type": "code",
   "execution_count": 47,
   "id": "7fa566e3-d3f4-4539-8bc6-db4557b91009",
   "metadata": {},
   "outputs": [
    {
     "data": {
      "text/plain": [
       "<Experiment: artifact_location='file:///G:/Meu%20Drive/Machine%20learning%20e%20deep%20learning/Cursos/Alura/Machine%20learning/Machine%20learning%20-%20MLflow%20ciclo%20de%20vidas%20de%20modelos%20ML/mlruns/1', experiment_id='1', lifecycle_stage='active', name='house-prices-eda', tags={}>"
      ]
     },
     "execution_count": 47,
     "metadata": {},
     "output_type": "execute_result"
    }
   ],
   "source": [
    "mlflow.get_experiment_by_name('house-prices-eda')"
   ]
  },
  {
   "cell_type": "code",
   "execution_count": 66,
   "id": "58af6729-b0f5-4fe2-a1e8-6b66f23157c0",
   "metadata": {},
   "outputs": [
    {
     "data": {
      "text/plain": [
       "[<RunInfo: artifact_uri='file:///G:/Meu%20Drive/Machine%20learning%20e%20deep%20learning/Cursos/Alura/Machine%20learning/Machine%20learning%20-%20MLflow%20ciclo%20de%20vidas%20de%20modelos%20ML/mlruns/1/1168148021df4c86b7c8f5c08b585df9/artifacts', end_time=1625894600035, experiment_id='1', lifecycle_stage='active', run_id='1168148021df4c86b7c8f5c08b585df9', run_uuid='1168148021df4c86b7c8f5c08b585df9', start_time=1625894599640, status='FINISHED', user_id='rafae'>,\n",
       " <RunInfo: artifact_uri='file:///G:/Meu%20Drive/Machine%20learning%20e%20deep%20learning/Cursos/Alura/Machine%20learning/Machine%20learning%20-%20MLflow%20ciclo%20de%20vidas%20de%20modelos%20ML/mlruns/1/ab7281db7fd4463cbe7b26eeddf9b7d5/artifacts', end_time=None, experiment_id='1', lifecycle_stage='active', run_id='ab7281db7fd4463cbe7b26eeddf9b7d5', run_uuid='ab7281db7fd4463cbe7b26eeddf9b7d5', start_time=1625894435197, status='RUNNING', user_id='rafae'>,\n",
       " <RunInfo: artifact_uri='file:///G:/Meu%20Drive/Machine%20learning%20e%20deep%20learning/Cursos/Alura/Machine%20learning/Machine%20learning%20-%20MLflow%20ciclo%20de%20vidas%20de%20modelos%20ML/mlruns/1/6675a9943228480e990ebf8544f62b87/artifacts', end_time=1625894530338, experiment_id='1', lifecycle_stage='active', run_id='6675a9943228480e990ebf8544f62b87', run_uuid='6675a9943228480e990ebf8544f62b87', start_time=1625894361892, status='FINISHED', user_id='rafae'>,\n",
       " <RunInfo: artifact_uri='file:///G:/Meu%20Drive/Machine%20learning%20e%20deep%20learning/Cursos/Alura/Machine%20learning/Machine%20learning%20-%20MLflow%20ciclo%20de%20vidas%20de%20modelos%20ML/mlruns/1/47ca11a3e511482a844e38aaddfc309b/artifacts', end_time=1625894267366, experiment_id='1', lifecycle_stage='active', run_id='47ca11a3e511482a844e38aaddfc309b', run_uuid='47ca11a3e511482a844e38aaddfc309b', start_time=1625894180094, status='FINISHED', user_id='rafae'>,\n",
       " <RunInfo: artifact_uri='file:///G:/Meu%20Drive/Machine%20learning%20e%20deep%20learning/Cursos/Alura/Machine%20learning/Machine%20learning%20-%20MLflow%20ciclo%20de%20vidas%20de%20modelos%20ML/mlruns/1/8e9479ce4832489a8bb73f339354302c/artifacts', end_time=1625894167797, experiment_id='1', lifecycle_stage='active', run_id='8e9479ce4832489a8bb73f339354302c', run_uuid='8e9479ce4832489a8bb73f339354302c', start_time=1625894111589, status='FINISHED', user_id='rafae'>,\n",
       " <RunInfo: artifact_uri='file:///G:/Meu%20Drive/Machine%20learning%20e%20deep%20learning/Cursos/Alura/Machine%20learning/Machine%20learning%20-%20MLflow%20ciclo%20de%20vidas%20de%20modelos%20ML/mlruns/1/7e88da39569343e3ac29cba3710938c8/artifacts', end_time=1625894063796, experiment_id='1', lifecycle_stage='active', run_id='7e88da39569343e3ac29cba3710938c8', run_uuid='7e88da39569343e3ac29cba3710938c8', start_time=1625893929709, status='FINISHED', user_id='rafae'>]"
      ]
     },
     "execution_count": 66,
     "metadata": {},
     "output_type": "execute_result"
    }
   ],
   "source": [
    "mlflow.list_run_infos('1')"
   ]
  },
  {
   "cell_type": "code",
   "execution_count": 53,
   "id": "0b3fa49b-8634-4db8-a8ab-873cdd469a3c",
   "metadata": {},
   "outputs": [
    {
     "data": {
      "text/plain": [
       "<Run: data=<RunData: metrics={}, params={}, tags={'mlflow.log-model.history': '[{\"run_id\": \"7e88da39569343e3ac29cba3710938c8\", '\n",
       "                             '\"artifact_path\": \"lr\", \"utc_time_created\": '\n",
       "                             '\"2021-07-10 05:12:09.881715\", \"flavors\": '\n",
       "                             '{\"sklearn\": {\"pickled_model\": \"model.pkl\", '\n",
       "                             '\"sklearn_version\": \"0.24.2\", '\n",
       "                             '\"serialization_format\": \"cloudpickle\"}}}, '\n",
       "                             '{\"run_id\": \"7e88da39569343e3ac29cba3710938c8\", '\n",
       "                             '\"artifact_path\": \"lr\", \"utc_time_created\": '\n",
       "                             '\"2021-07-10 05:12:13.877535\", \"flavors\": '\n",
       "                             '{\"sklearn\": {\"pickled_model\": \"model.pkl\", '\n",
       "                             '\"sklearn_version\": \"0.24.2\", '\n",
       "                             '\"serialization_format\": \"cloudpickle\"}}}, '\n",
       "                             '{\"run_id\": \"7e88da39569343e3ac29cba3710938c8\", '\n",
       "                             '\"artifact_path\": \"lr\", \"utc_time_created\": '\n",
       "                             '\"2021-07-10 05:13:18.899279\", \"flavors\": '\n",
       "                             '{\"sklearn\": {\"pickled_model\": \"model.pkl\", '\n",
       "                             '\"sklearn_version\": \"0.24.2\", '\n",
       "                             '\"serialization_format\": \"cloudpickle\"}}}]',\n",
       " 'mlflow.source.name': 'C:\\\\Users\\\\rafae\\\\Anaconda3\\\\lib\\\\site-packages\\\\ipykernel_launcher.py',\n",
       " 'mlflow.source.type': 'LOCAL',\n",
       " 'mlflow.user': 'rafae'}>, info=<RunInfo: artifact_uri='file:///G:/Meu%20Drive/Machine%20learning%20e%20deep%20learning/Cursos/Alura/Machine%20learning/Machine%20learning%20-%20MLflow%20ciclo%20de%20vidas%20de%20modelos%20ML/mlruns/1/7e88da39569343e3ac29cba3710938c8/artifacts', end_time=1625894063796, experiment_id='1', lifecycle_stage='active', run_id='7e88da39569343e3ac29cba3710938c8', run_uuid='7e88da39569343e3ac29cba3710938c8', start_time=1625893929709, status='FINISHED', user_id='rafae'>>"
      ]
     },
     "execution_count": 53,
     "metadata": {},
     "output_type": "execute_result"
    }
   ],
   "source": [
    "mlflow.get_run('7e88da39569343e3ac29cba3710938c8')"
   ]
  },
  {
   "cell_type": "code",
   "execution_count": 49,
   "id": "f861b5b8-c73d-40da-8b4d-6374f7fa0163",
   "metadata": {},
   "outputs": [],
   "source": [
    "mse = mean_squared_error(y_test, model_xgb_pred)\n",
    "r2 = r2_score(y_test, model_xgb_pred)\n",
    "rmse =  math.sqrt(mse)"
   ]
  },
  {
   "cell_type": "code",
   "execution_count": 50,
   "id": "cd7cfcea-328f-469d-8b1d-ba201bc11fa3",
   "metadata": {},
   "outputs": [
    {
     "data": {
      "text/plain": [
       "1386727460.1346002"
      ]
     },
     "execution_count": 50,
     "metadata": {},
     "output_type": "execute_result"
    }
   ],
   "source": [
    "mse"
   ]
  },
  {
   "cell_type": "code",
   "execution_count": 51,
   "id": "b6208acb-be04-41f5-b6f4-8eaf93626e54",
   "metadata": {},
   "outputs": [
    {
     "data": {
      "text/plain": [
       "0.8012741720529797"
      ]
     },
     "execution_count": 51,
     "metadata": {},
     "output_type": "execute_result"
    }
   ],
   "source": [
    "r2"
   ]
  },
  {
   "cell_type": "code",
   "execution_count": 52,
   "id": "2a3eabd1-65e1-4048-9374-7977f3b0ee00",
   "metadata": {},
   "outputs": [
    {
     "data": {
      "text/plain": [
       "37238.789724353286"
      ]
     },
     "execution_count": 52,
     "metadata": {},
     "output_type": "execute_result"
    }
   ],
   "source": [
    "rmse"
   ]
  },
  {
   "cell_type": "code",
   "execution_count": null,
   "id": "88c8b49d-fc0a-4ca6-abb0-5ffb2d800226",
   "metadata": {},
   "outputs": [],
   "source": []
  },
  {
   "cell_type": "code",
   "execution_count": null,
   "id": "bfa7c74b",
   "metadata": {},
   "outputs": [],
   "source": []
  }
 ],
 "metadata": {
  "kernelspec": {
   "display_name": "Python 3",
   "language": "python",
   "name": "python3"
  },
  "language_info": {
   "codemirror_mode": {
    "name": "ipython",
    "version": 3
   },
   "file_extension": ".py",
   "mimetype": "text/x-python",
   "name": "python",
   "nbconvert_exporter": "python",
   "pygments_lexer": "ipython3",
   "version": "3.7.4"
  }
 },
 "nbformat": 4,
 "nbformat_minor": 5
}
